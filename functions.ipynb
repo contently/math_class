{
 "cells": [
  {
   "cell_type": "code",
   "execution_count": null,
   "metadata": {},
   "outputs": [],
   "source": [
    "import random\n",
    "from collections import Counter\n",
    "import numpy as np\n",
    "import matplotlib.pyplot as plt"
   ]
  },
  {
   "cell_type": "code",
   "execution_count": null,
   "metadata": {},
   "outputs": [],
   "source": [
    "%matplotlib inline"
   ]
  },
  {
   "cell_type": "markdown",
   "metadata": {},
   "source": [
    "# 0. Introduction"
   ]
  },
  {
   "cell_type": "markdown",
   "metadata": {},
   "source": [
    "Remember last time, we looked marbles, and we wanted to know the chances of pulling a certain marble(s) out of a bag, based on the marble counts that we had available to us?"
   ]
  },
  {
   "cell_type": "code",
   "execution_count": null,
   "metadata": {},
   "outputs": [],
   "source": [
    "marble_colors = [\"black\", \"white\"]"
   ]
  },
  {
   "cell_type": "code",
   "execution_count": null,
   "metadata": {},
   "outputs": [],
   "source": [
    "marble_bag = [marble_colors[random.randint(0, 1)] for i in range(100)]"
   ]
  },
  {
   "cell_type": "code",
   "execution_count": null,
   "metadata": {},
   "outputs": [],
   "source": [
    "counts = Counter(marble_bag)"
   ]
  },
  {
   "cell_type": "code",
   "execution_count": null,
   "metadata": {},
   "outputs": [],
   "source": [
    "fig = plt.figure(figsize=(11, 8))\n",
    "\n",
    "plt.axvspan(0, 100, color=\"grey\")\n",
    "\n",
    "fig.axes[0].set_xlim(0, 100)\n",
    "fig.axes[0].get_yaxis().set_visible(False)\n",
    "\n",
    "title = plt.title(\"Visualization of bag of 100 marbles of mixed color (white or black)\")"
   ]
  },
  {
   "cell_type": "markdown",
   "metadata": {},
   "source": [
    "Now, let's visualize the distributions of the colors in the bag, separated out:"
   ]
  },
  {
   "cell_type": "code",
   "execution_count": null,
   "metadata": {},
   "outputs": [],
   "source": [
    "fig = plt.figure(figsize=(11, 8))\n",
    "\n",
    "plt.axvspan(0, 100 - counts[\"black\"], color=\"white\")\n",
    "plt.axvspan(100 - counts[\"black\"], 100, color=\"black\")\n",
    "\n",
    "fig.axes[0].set_xlim(0, 100)\n",
    "fig.axes[0].get_yaxis().set_visible(False)\n",
    "\n",
    "title = plt.title(\"Breaking down our marble bag by color\")"
   ]
  },
  {
   "cell_type": "markdown",
   "metadata": {},
   "source": [
    "What we've done is to create a _rule_ that _maps_ the:\n",
    "- total number of marbles in the bag, and\n",
    "- the number of marbles of the color we'd like\n",
    "\n",
    "to:\n",
    "- the chances that we pull a marble of that color from our bag\n",
    "\n",
    "In other words, we've created a _function_, which takes as input elements from one set (all marbles in the bag) and returns back an element from another set, with our return set being the numbers on the interval [0, 1], which represent the probability of randomly drawing a certain colored marble from the bag.\n",
    "\n",
    "We can symbolize this as:\n",
    "\n",
    "$${p_{color} = {f(bag, color)} = \\frac{|bag_{marble\\_color = color}|}{|bag|}}$$\n",
    "\n",
    "where:\n",
    "- $p_{event}$ refers to the probability of `event`\n",
    "- ${f(parameter)}$ to a function that takes `parameter` as input\n",
    "- and ${|set|}$ to the number of elements in `set`"
   ]
  },
  {
   "cell_type": "markdown",
   "metadata": {},
   "source": [
    "Now, how would we visualize the probability of first drawing a white marble, and then drawing a black marble?"
   ]
  },
  {
   "cell_type": "code",
   "execution_count": null,
   "metadata": {},
   "outputs": [],
   "source": [
    "def proba_marble(marble_bag, desired_color):\n",
    "\n",
    "    num_marbles_total = sum(marble_bag.values())\n",
    "    num_marbles_desired_color = marble_bag[desired_color]\n",
    "\n",
    "    return num_marbles_desired_color / num_marbles_total"
   ]
  },
  {
   "cell_type": "code",
   "execution_count": null,
   "metadata": {},
   "outputs": [],
   "source": [
    "fig = plt.figure(figsize=(11, 8))\n",
    "\n",
    "plt.axvspan(0, 100, facecolor=\"none\", hatch=\".\", edgecolor=\"grey\", linewidth=0.0)\n",
    "\n",
    "draw_white_first = proba_marble(counts, \"white\")\n",
    "then_draw_black = draw_white_first * proba_marble(counts, \"black\")\n",
    "\n",
    "plt.axvspan(0, draw_white_first * 100, color=\"white\")\n",
    "plt.axvspan(0, then_draw_black * 100, color=\"black\")\n",
    "\n",
    "fig.axes[0].set_xlim(0, 100)\n",
    "fig.axes[0].get_yaxis().set_visible(False)\n",
    "\n",
    "title = plt.title(\"Sample space (aka our marble bag), visualized\")"
   ]
  },
  {
   "cell_type": "markdown",
   "metadata": {},
   "source": [
    "So we've made some mappings that involved _probability_, which we're calculating through simple division - what other types of functions can we create?"
   ]
  },
  {
   "cell_type": "markdown",
   "metadata": {},
   "source": [
    "# 1. Functions"
   ]
  },
  {
   "cell_type": "markdown",
   "metadata": {},
   "source": [
    "### Am I hungry?\n",
    "\n",
    "Let's say you had a to write a function called `am_i_hungry`, which would take as input the number of calories you've consumed in the last hour, and which would produce as output a measure indicating whether or not you're hungry - what would that look like for you?"
   ]
  },
  {
   "cell_type": "code",
   "execution_count": null,
   "metadata": {},
   "outputs": [],
   "source": [
    "def am_i_hungry(num_calories_past_hour):\n",
    "    # do some stuff\n",
    "    return hunger_measure"
   ]
  },
  {
   "cell_type": "code",
   "execution_count": null,
   "metadata": {},
   "outputs": [],
   "source": [
    "fig = plt.figure(figsize=(11, 8))\n",
    "\n",
    "calories = np.linspace(0, 5000)\n",
    "\n",
    "hunger = []\n",
    "for c in calories:\n",
    "    hunger.append(am_i_hungry(c))\n",
    "\n",
    "plot = plt.plot(calories, hunger)\n",
    "\n",
    "xlab = fig.axes[0].set_xlim(0, 5000)\n",
    "\n",
    "# only need to use if you want to restrict y-axis to between 0 and 1ish\n",
    "# ylab = fig.axes[0].set_ylim(0, 1.1)\n",
    "# ylab = fig.axes[0].set_yticks([0, 1])\n",
    "\n",
    "xlab = fig.axes[0].set_xlabel(\"calories\")\n",
    "ylab = fig.axes[0].set_ylabel(\"hunger\")\n",
    "\n",
    "title = plt.title(\"Hunger, as a Function of Calories\")"
   ]
  },
  {
   "cell_type": "markdown",
   "metadata": {},
   "source": [
    "**Notes**"
   ]
  },
  {
   "cell_type": "markdown",
   "metadata": {},
   "source": [
    "### Taxi Cab\n",
    "\n",
    "Let's say you're going out to dinner and you're trying to figure out whether to take the cab or a subway. There are many considerations of course - weather, what train line(s) you are near, how many people you have, etc. - but an important one is of course _cost_. \n",
    "\n",
    "Can we create a simple function to map distance traveled to a price in dollars?\n",
    "\n",
    "Input:\n",
    "- distance (miles)\n",
    "\n",
    "Output:\n",
    "- price ($)\n",
    "\n",
    "If you need help, you can see the actual NYC rates [here](http://www.nyc.gov/html/tlc/html/passenger/taxicab_rate.shtml) and _functionalize_, if you will, those figures - but feel free to just wing it (bonus points for creativity)!"
   ]
  },
  {
   "cell_type": "code",
   "execution_count": null,
   "metadata": {},
   "outputs": [],
   "source": [
    "def estimate_taxi_cost(distance):\n",
    "    # do some stuffs\n",
    "    return estimated_cost"
   ]
  },
  {
   "cell_type": "code",
   "execution_count": null,
   "metadata": {
    "scrolled": false
   },
   "outputs": [],
   "source": [
    "fig = plt.figure(figsize=(11, 8))\n",
    "\n",
    "distances = np.linspace(0, 20)\n",
    "\n",
    "costs = []\n",
    "for d in distances:\n",
    "    costs.append(estimate_taxi_cost(d))\n",
    "\n",
    "plot = plt.plot(distances, costs)\n",
    "\n",
    "xlab = fig.axes[0].set_xlim(0, 20)\n",
    "\n",
    "xlab = fig.axes[0].set_xlabel(\"distance\")\n",
    "ylab = fig.axes[0].set_ylabel(\"estimated cost\")\n",
    "\n",
    "title = plt.title(\"Estimated Taxi Fare, as a Function of Distance (and Maybe Other Variables)\")"
   ]
  },
  {
   "cell_type": "markdown",
   "metadata": {},
   "source": [
    "**Notes**\n"
   ]
  },
  {
   "cell_type": "markdown",
   "metadata": {},
   "source": [
    "### Speed of falling apple\n",
    "\n",
    "Let's say you head over to the kitchen to grab a snack, and you're really jonsing for an apple. Unfortunately, by the time you get there, the only apple left is one that's already pretty bruised and whatnot, and you're kind of annoyed. You have an impulse to throw it on the ground, but that'd be kind of barbaric and loud and that would bother Sara. And then you think to yourself: what if I turned this into a physics experiment, and instead _dropped_ the apple from various heights - how would I calculate what its speed would be upon hitting the ground each time?\n",
    "\n",
    "Can we create a simple function to map the height of the apple when dropped to its speed upon hitting the ground?\n",
    "\n",
    "Input:\n",
    "- height (meters)\n",
    "\n",
    "Output:\n",
    "- speed (meters / second)\n",
    "\n",
    "If you need help, you can check [this](https://www.mathopenref.com/calceqofmotion.html) out, or pair up with someone who took physics!"
   ]
  },
  {
   "cell_type": "code",
   "execution_count": null,
   "metadata": {},
   "outputs": [],
   "source": [
    "def apple_speed(height):\n",
    "    # do some stuff\n",
    "    return speed"
   ]
  },
  {
   "cell_type": "markdown",
   "metadata": {},
   "source": [
    "Now how would you approximate acceleration?"
   ]
  },
  {
   "cell_type": "code",
   "execution_count": null,
   "metadata": {},
   "outputs": [],
   "source": [
    "def apple_acceleration(height):\n",
    "    # do some stuff\n",
    "    return acceleration"
   ]
  },
  {
   "cell_type": "code",
   "execution_count": null,
   "metadata": {
    "scrolled": false
   },
   "outputs": [],
   "source": [
    "fig = plt.figure(figsize=(11, 8))\n",
    "\n",
    "heights = np.linspace(0, 20)\n",
    "\n",
    "accels = []\n",
    "for h in heights:\n",
    "    accels.append(apple_acceleration(h))\n",
    "\n",
    "plot = plt.plot(distances, costs)\n",
    "\n",
    "xlab = fig.axes[0].set_xlim(0, 20)\n",
    "\n",
    "xlab = fig.axes[0].set_xlabel(\"heigh\")\n",
    "ylab = fig.axes[0].set_ylabel(\"acceleration\")\n",
    "\n",
    "title = plt.title(\"Estimated Apple Acceleration Based on Height\")"
   ]
  },
  {
   "cell_type": "markdown",
   "metadata": {},
   "source": []
  },
  {
   "cell_type": "markdown",
   "metadata": {},
   "source": [
    "### Pyramid schemes\n",
    "\n",
    "Let's say a friend comes up to you and says - \"hey, I've got this new business, where you can make a lot of money by creating a business, and then getting other people to start businesses\" - what do you do? Well, first - run! And then call the FTC!\n",
    "\n",
    "Why? Because this could be an example of what's called a _pyramid scheme_. Let's say in this particular scheme, you have to hire exactly 3 people to create businesses for you, and they are each allowed to hire 3 people, and so on... can we create a function to map the number of \"levels\" of your illegal business to the total number of people involved in it?\n",
    "\n",
    "Input:\n",
    "- number of organizational levels\n",
    "\n",
    "Output:\n",
    "- total number of employees\n",
    "\n",
    "If you need help, see [here](https://en.wikipedia.org/wiki/Pyramid_scheme)."
   ]
  },
  {
   "cell_type": "code",
   "execution_count": null,
   "metadata": {},
   "outputs": [],
   "source": [
    "def total_pyramid_employees(num_levels):\n",
    "    # do some stuff\n",
    "    return levels"
   ]
  },
  {
   "cell_type": "code",
   "execution_count": null,
   "metadata": {
    "scrolled": false
   },
   "outputs": [],
   "source": [
    "fig = plt.figure(figsize=(11, 8))\n",
    "\n",
    "x = np.linspace(0, 10)\n",
    "\n",
    "plot = plt.plot(x, list(map(total_pyramid_employees, x)))\n",
    "\n",
    "xlab = fig.axes[0].set_xlim(0, 10)\n",
    "\n",
    "xlab = fig.axes[0].set_xlabel(\"levels\")\n",
    "ylab = fig.axes[0].set_ylabel(\"total employees\")\n",
    "\n",
    "title = plt.title(\"Pyramid Scheme Size, as a Funcion of its Number of Levels\")"
   ]
  },
  {
   "cell_type": "markdown",
   "metadata": {},
   "source": [
    "This is what's called an _exponential_ function, and these are generally the most quickly growing function families you'll encounter."
   ]
  },
  {
   "cell_type": "markdown",
   "metadata": {},
   "source": [
    "### Searching for an item in a sorted list\n",
    "\n",
    "Let's say you have a list of numbers, and you're trying to see if a given number is in that list - how many tries would it take you to figure that out?"
   ]
  },
  {
   "cell_type": "code",
   "execution_count": null,
   "metadata": {},
   "outputs": [],
   "source": [
    "def num_iterations(num_to_find, list_of_numbers, iterations):\n",
    "    # do some stuff\n",
    "    return iterations"
   ]
  },
  {
   "cell_type": "code",
   "execution_count": null,
   "metadata": {
    "scrolled": false
   },
   "outputs": [],
   "source": [
    "fig = plt.figure(figsize=(11, 8))\n",
    "\n",
    "list_lengths = range(0, 10000, 10)\n",
    "iterations = []\n",
    "for l in list_lengths:\n",
    "    new_list = sorted([random.randint(0, 100) for i in range(l)])\n",
    "    new_num = random.randint(0, 10000)\n",
    "    iterations.append(num_iterations(new_num, new_list, 0))\n",
    "\n",
    "plot = plt.plot(list_lengths, iterations)\n",
    "\n",
    "xlab = fig.axes[0].set_xlim(0, 100)\n",
    "\n",
    "xlab = fig.axes[0].set_xlabel(\"items in list\")\n",
    "ylab = fig.axes[0].set_ylabel(\"iterations\")\n",
    "\n",
    "title = plt.title(\"Number of iterations to find item in sorted list\")"
   ]
  },
  {
   "cell_type": "markdown",
   "metadata": {},
   "source": []
  },
  {
   "cell_type": "markdown",
   "metadata": {},
   "source": [
    "### Re-evaluate hunger\n",
    "\n",
    "Let's try to create a new function for predicting hunger as a function of calories in the last hour."
   ]
  }
 ],
 "metadata": {
  "kernelspec": {
   "display_name": "Python 3",
   "language": "python",
   "name": "python3"
  },
  "language_info": {
   "codemirror_mode": {
    "name": "ipython",
    "version": 3
   },
   "file_extension": ".py",
   "mimetype": "text/x-python",
   "name": "python",
   "nbconvert_exporter": "python",
   "pygments_lexer": "ipython3",
   "version": "3.7.1"
  }
 },
 "nbformat": 4,
 "nbformat_minor": 2
}
