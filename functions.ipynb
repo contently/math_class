{
 "cells": [
  {
   "cell_type": "markdown",
   "metadata": {},
   "source": [
    "Example functions\n",
    "    - introductory set theory\n",
    "    - finite vs. infinite sets\n",
    "    - what is a mapping?\n",
    "    - model real world scenarios with 2d visualizations\n",
    "\t\t- constant\n",
    "\t\t\t- am I hungry? based on number of calories eaten, always 1\n",
    "            - this maps integers (Natual numbers) to Boolean space\n",
    "\t\t- linear\n",
    "\t\t\t- simple taxi ($2 + $.4 * miles)\n",
    "\t\t- quadratic\n",
    "\t\t\t- apartment cost by feet squared (dotted line for negatives)\n",
    "\t\t- exponential\n",
    "\t\t\t- disease spread\n",
    "\t\t\t- nicotine decay\n",
    "\t\t\t- wealth compounding\n",
    "\t\t- logarithmic\n",
    "\t\t\t- marginal income with progressive taxing?\n",
    "\t\t\t- bisection search\n",
    "\tsolving analytically\n",
    "\t\t- algebra review\n",
    "\t\t- order of operations (PEMDAS)\n",
    "\t\t- combine terms\n",
    "\t\t- leverage equality\n",
    "\t-order of magnitude"
   ]
  },
  {
   "cell_type": "code",
   "execution_count": 5,
   "metadata": {},
   "outputs": [],
   "source": [
    "import random\n",
    "from collections import Counter\n",
    "import numpy as np\n",
    "import matplotlib.pyplot as plt"
   ]
  },
  {
   "cell_type": "code",
   "execution_count": 2,
   "metadata": {},
   "outputs": [],
   "source": [
    "%matplotlib inline"
   ]
  },
  {
   "cell_type": "code",
   "execution_count": null,
   "metadata": {},
   "outputs": [],
   "source": []
  },
  {
   "cell_type": "markdown",
   "metadata": {},
   "source": [
    "Remember last time, we looked marbles, and we wanted to know the chances of pulling a certain marble(s) out of a bag, based on the marble counts that we had available to us?\n",
    "\n"
   ]
  },
  {
   "cell_type": "code",
   "execution_count": 6,
   "metadata": {},
   "outputs": [],
   "source": [
    "marble_colors = [\"black\", \"white\"]"
   ]
  },
  {
   "cell_type": "code",
   "execution_count": 7,
   "metadata": {},
   "outputs": [],
   "source": [
    "marble_bag = [marble_colors[random.randint(0, 1)] for i in range(100)]"
   ]
  },
  {
   "cell_type": "code",
   "execution_count": 9,
   "metadata": {},
   "outputs": [],
   "source": [
    "counts = Counter(marble_bag)"
   ]
  },
  {
   "cell_type": "code",
   "execution_count": null,
   "metadata": {},
   "outputs": [],
   "source": [
    "If we represent "
   ]
  },
  {
   "cell_type": "code",
   "execution_count": 25,
   "metadata": {},
   "outputs": [
    {
     "data": {
      "image/png": "[encoded data removed]",
      "text/plain": [
       "<Figure size 792x576 with 1 Axes>"
      ]
     },
     "metadata": {
      "needs_background": "light"
     },
     "output_type": "display_data"
    }
   ],
   "source": [
    "fig = plt.figure(figsize=(11, 8))\n",
    "\n",
    "plt.axvspan(0, 100, color=\"grey\")\n",
    "\n",
    "fig.axes[0].set_xlim(0, 100)\n",
    "fig.axes[0].get_yaxis().set_visible(False)\n",
    "\n",
    "title = plt.title(\"Visualization of bag of 100 marbles of mixed color (white or black)\")"
   ]
  },
  {
   "cell_type": "code",
   "execution_count": 26,
   "metadata": {},
   "outputs": [
    {
     "data": {
      "image/png": "[encoded data removed]",
      "text/plain": [
       "<Figure size 792x576 with 1 Axes>"
      ]
     },
     "metadata": {
      "needs_background": "light"
     },
     "output_type": "display_data"
    }
   ],
   "source": [
    "fig = plt.figure(figsize=(11, 8))\n",
    "\n",
    "plt.axvspan(0, 100 - counts[\"black\"], color=\"white\")\n",
    "plt.axvspan(100 - counts[\"black\"], 100, color=\"black\")\n",
    "\n",
    "fig.axes[0].set_xlim(0, 100)\n",
    "fig.axes[0].get_yaxis().set_visible(False)\n",
    "\n",
    "title = plt.title(\"Breaking down our marble bag by color\")"
   ]
  },
  {
   "cell_type": "markdown",
   "metadata": {},
   "source": [
    "What we've done is to create a _rule_ that _maps_ the:\n",
    "- total number of marbles in the bag, and\n",
    "- the number of marbles of the color we'd like\n",
    "\n",
    "to:\n",
    "- the chances that we pull a marble of that color from our bag\n",
    "\n",
    "In other words, we've created a _function_, which takes as input elements from one set (all marbles in the bag) and returns back an element from anothe set (the number on the interval [0, 1]) representing the probability of randomly drawing a certain colored marble from the bag.\n",
    "\n",
    "We can symolize this as:\n",
    "\n",
    "$${p_{color} = {f(bag, color)} = \\frac{|bag_{bag = color}|}{|bag|}}$$\n",
    "\n",
    "where:\n",
    "- $p_{event}$ refers to the _probability_ of _event_\n",
    "- ${f(parameter)}$ to a _function_ that takes _parameter_ as _input_\n",
    "- and ${|set|}$ to the number of _elements_ in _set_"
   ]
  },
  {
   "cell_type": "code",
   "execution_count": 27,
   "metadata": {},
   "outputs": [],
   "source": [
    "def proba_marble(marble_bag, desired_color):\n",
    "\n",
    "    num_marbles_total = sum(marble_bag.values())\n",
    "    num_marbles_desired_color = marble_bag[desired_color]\n",
    "\n",
    "    return num_marbles_desired_color / num_marbles_total"
   ]
  },
  {
   "cell_type": "code",
   "execution_count": 29,
   "metadata": {},
   "outputs": [
    {
     "data": {
      "image/png": "[encoded data removed]",
      "text/plain": [
       "<Figure size 792x576 with 1 Axes>"
      ]
     },
     "metadata": {
      "needs_background": "light"
     },
     "output_type": "display_data"
    }
   ],
   "source": [
    "fig = plt.figure(figsize=(11, 8))\n",
    "\n",
    "plt.axvspan(0, 100, facecolor=\"none\", hatch=\".\", edgecolor=\"grey\", linewidth=0.0)\n",
    "\n",
    "draw_white_first = proba_marble(counts, \"white\")\n",
    "then_draw_black = draw_white_first * proba_marble(counts, \"black\")\n",
    "\n",
    "plt.axvspan(0, draw_white_first * 100, color=\"white\")\n",
    "plt.axvspan(0, then_draw_black * 100, color=\"black\")\n",
    "\n",
    "fig.axes[0].set_xlim(0, 100)\n",
    "fig.axes[0].get_yaxis().set_visible(False)\n",
    "\n",
    "title = plt.title(\"Sample space (aka our marble bag), visualized\")"
   ]
  },
  {
   "cell_type": "markdown",
   "metadata": {},
   "source": [
    "### Am I hungry?"
   ]
  },
  {
   "cell_type": "code",
   "execution_count": null,
   "metadata": {},
   "outputs": [],
   "source": []
  },
  {
   "cell_type": "code",
   "execution_count": null,
   "metadata": {},
   "outputs": [],
   "source": [
    "s"
   ]
  },
  {
   "cell_type": "code",
   "execution_count": null,
   "metadata": {},
   "outputs": [],
   "source": []
  },
  {
   "cell_type": "code",
   "execution_count": null,
   "metadata": {},
   "outputs": [],
   "source": []
  },
  {
   "cell_type": "code",
   "execution_count": null,
   "metadata": {},
   "outputs": [],
   "source": []
  }
 ],
 "metadata": {
  "kernelspec": {
   "display_name": "Python 3",
   "language": "python",
   "name": "python3"
  },
  "language_info": {
   "codemirror_mode": {
    "name": "ipython",
    "version": 3
   },
   "file_extension": ".py",
   "mimetype": "text/x-python",
   "name": "python",
   "nbconvert_exporter": "python",
   "pygments_lexer": "ipython3",
   "version": "3.7.1"
  }
 },
 "nbformat": 4,
 "nbformat_minor": 2
}
