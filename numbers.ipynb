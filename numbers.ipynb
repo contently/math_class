{
 "cells": [
  {
   "cell_type": "markdown",
   "metadata": {},
   "source": [
    "# 0. Background\n",
    "\n",
    "### Overview\n",
    "\n",
    "This marks the first session of our _Contently Math Class_! The hope for today is to jump into the mechanics of some fundamental calculations, with a focus on how these simple procedures build on each other to allow for more complex operations."
   ]
  },
  {
   "cell_type": "markdown",
   "metadata": {},
   "source": [
    "### Python Ultra-Basics\n",
    "\n",
    "Line breaks\n",
    "- In python, separate lines of text are treated as separate lines of code - no \";\" necessary at line-end\n",
    "\n",
    "Indentation\n",
    "- Functionality that lives within the same _scope_ (kinda like heirarchy) will share the same indentation level\n",
    "\n",
    "Colons\n",
    "- The colon (`:`) is used for multiple things, but here we will use it to denote the beginning of an indentation\n",
    "\n",
    "`def`\n",
    "- This keyword is used to indicate the creation of a new function\n",
    "\n",
    "`print`\n",
    "- A function that allows you to print results to the screen\n",
    "\n",
    "`len`\n",
    "- A function that tells how you many items something contains\n",
    "\n",
    "`while`\n",
    "- Marks a block of functionality that will continue only _while_ a certain condition remains True"
   ]
  },
  {
   "cell_type": "markdown",
   "metadata": {},
   "source": [
    "### Jupyter Keyboard Shorcuts\n",
    "\n",
    "To run a cell:\n",
    "- `shift` + `enter`\n",
    "\n",
    "To enter _command mode_:\n",
    "- `escape`\n",
    "\n",
    "**The following commands must be run from _command mode_ and operate at the _cell_ level.**\n",
    "\n",
    "Copy, cut, paste cell:\n",
    "- `c`, `x`, `v`\n",
    "\n",
    "New cell above, below:\n",
    "- `a`, `b`\n",
    "\n",
    "Delete cell:\n",
    "- `dd`\n",
    "\n",
    "Convert cell to _markdown_:\n",
    "- `m`\n",
    "\n",
    "See all shortcuts:\n",
    "- `h`"
   ]
  },
  {
   "cell_type": "markdown",
   "metadata": {},
   "source": [
    "# 1. What are numbers? \n",
    "Let's start with some things that you can do with them."
   ]
  },
  {
   "cell_type": "markdown",
   "metadata": {},
   "source": [
    "### Count\n",
    "\n",
    "Let's say I am ordering lunch for several team members and I would like to have a contrete idea of the _quantity_ of meals I need - how can I get that? I can _count_ the number of folks who would like to eat, and order 1 meal for each of them. "
   ]
  },
  {
   "cell_type": "code",
   "execution_count": 1,
   "metadata": {},
   "outputs": [],
   "source": [
    "is_eating_lunch = [\n",
    "                    (\"abe\", 1),\n",
    "                    (\"liz\", 1),\n",
    "                    (\"lorgio\", 1),\n",
    "                    (\"seth\", 0)\n",
    "                  ]"
   ]
  },
  {
   "cell_type": "code",
   "execution_count": 2,
   "metadata": {
    "scrolled": false
   },
   "outputs": [
    {
     "data": {
      "text/plain": [
       "4"
      ]
     },
     "execution_count": 2,
     "metadata": {},
     "output_type": "execute_result"
    }
   ],
   "source": [
    "len(is_eating_lunch)"
   ]
  },
  {
   "cell_type": "code",
   "execution_count": 3,
   "metadata": {
    "scrolled": true
   },
   "outputs": [],
   "source": [
    "def is_eating(list_of_who_is_eating):\n",
    "\n",
    "    # initialize variable to keep track of number of eaters\n",
    "    count = 0\n",
    "    # initialize variable to keep track of position in list\n",
    "    index = 0\n",
    "    \n",
    "    # create loop that exits when we've processed same number of items as in our input list\n",
    "    while index < len(list_of_who_is_eating):\n",
    "        \n",
    "        # get next lunch (name, status) pair\n",
    "        lunch_status = list_of_who_is_eating[index]\n",
    "        print(*lunch_status)\n",
    "        \n",
    "        # get whether they're eating lunch\n",
    "        is_eating = lunch_status[1]\n",
    "        \n",
    "        # increase count by either 1 or 0 (depending on whether they're eating)\n",
    "        count = count + is_eating\n",
    "        print(count)\n",
    "        \n",
    "        # set up for next (name, status) pair\n",
    "        index = index + 1\n",
    "\n",
    "    # return count of lunches to user\n",
    "    return count"
   ]
  },
  {
   "cell_type": "code",
   "execution_count": 4,
   "metadata": {
    "scrolled": false
   },
   "outputs": [
    {
     "name": "stdout",
     "output_type": "stream",
     "text": [
      "abe 1\n",
      "1\n",
      "liz 1\n",
      "2\n",
      "lorgio 1\n",
      "3\n",
      "seth 0\n",
      "3\n"
     ]
    },
    {
     "data": {
      "text/plain": [
       "3"
      ]
     },
     "execution_count": 4,
     "metadata": {},
     "output_type": "execute_result"
    }
   ],
   "source": [
    "is_eating(is_eating_lunch)"
   ]
  },
  {
   "cell_type": "markdown",
   "metadata": {},
   "source": [
    "So the concept of first using a number to help us keep track of whether or not someone is ordering lunch and second _counting_ the total number of lunches allows to decide how many to order."
   ]
  },
  {
   "cell_type": "markdown",
   "metadata": {},
   "source": [
    "### Comparison\n",
    "\n",
    "An important property of numbers is that we can _compare_ them - what if we need to order dinner, and we want to know, for financial planning purposes, whether more people are eating lunch than dinner? \n",
    "\n",
    "First, let's see how many folks want dinner:"
   ]
  },
  {
   "cell_type": "code",
   "execution_count": 5,
   "metadata": {},
   "outputs": [],
   "source": [
    "is_eating_dinner = [\n",
    "                    (\"abe\", 0),\n",
    "                    (\"liz\", 1),\n",
    "                    (\"lorgio\", 1),\n",
    "                    (\"seth\", 0)\n",
    "                  ]"
   ]
  },
  {
   "cell_type": "code",
   "execution_count": 6,
   "metadata": {
    "scrolled": false
   },
   "outputs": [
    {
     "name": "stdout",
     "output_type": "stream",
     "text": [
      "abe 0\n",
      "0\n",
      "liz 1\n",
      "1\n",
      "lorgio 1\n",
      "2\n",
      "seth 0\n",
      "2\n"
     ]
    },
    {
     "data": {
      "text/plain": [
       "2"
      ]
     },
     "execution_count": 6,
     "metadata": {},
     "output_type": "execute_result"
    }
   ],
   "source": [
    "is_eating(is_eating_dinner)"
   ]
  },
  {
   "cell_type": "code",
   "execution_count": 7,
   "metadata": {},
   "outputs": [],
   "source": [
    "def is_a_greater_than_b(a, b):\n",
    "    \n",
    "    # first check if two numbers are equal\n",
    "    if a == b:\n",
    "        return False\n",
    "\n",
    "    # the rest of this only works if both a, b are >= 0\n",
    "    counter = 0\n",
    "    \n",
    "    # create infinite loop\n",
    "    while True:\n",
    "        print(\"a:\", a, \"b:\", b, \"counter:\", counter)\n",
    "        # counter equals a before equaling b, a is less than b\n",
    "        if counter == a:\n",
    "            return False\n",
    "        \n",
    "        # counter equals b before equaling a, a is greater than b\n",
    "        if counter == b:\n",
    "            return True\n",
    "        \n",
    "        # set up counter for next check\n",
    "        counter = counter + 1"
   ]
  },
  {
   "cell_type": "code",
   "execution_count": 8,
   "metadata": {},
   "outputs": [
    {
     "name": "stdout",
     "output_type": "stream",
     "text": [
      "a: 5 b: 4 counter: 0\n",
      "a: 5 b: 4 counter: 1\n",
      "a: 5 b: 4 counter: 2\n",
      "a: 5 b: 4 counter: 3\n",
      "a: 5 b: 4 counter: 4\n"
     ]
    },
    {
     "data": {
      "text/plain": [
       "True"
      ]
     },
     "execution_count": 8,
     "metadata": {},
     "output_type": "execute_result"
    }
   ],
   "source": [
    "is_a_greater_than_b(5, 4)"
   ]
  },
  {
   "cell_type": "code",
   "execution_count": 9,
   "metadata": {},
   "outputs": [],
   "source": [
    "def is_a_less_than_b(a, b):\n",
    "    \n",
    "    # first check if two numbers are equal\n",
    "    if a == b:\n",
    "        return False\n",
    "\n",
    "    # the rest of this only works if both a, b are >= 0\n",
    "    counter = 0\n",
    "    \n",
    "    # create infinite loop\n",
    "    while True:\n",
    "        print(\"a:\", a, \"b:\", b, \"counter:\", counter)\n",
    "        # counter equals a before equaling b, a is less than b\n",
    "        if counter == a:\n",
    "            return True\n",
    "        \n",
    "        # counter equals b before equaling a, a is greater than b\n",
    "        if counter == b:\n",
    "            return False\n",
    "        \n",
    "        # set up counter for next check\n",
    "        counter = counter + 1"
   ]
  },
  {
   "cell_type": "code",
   "execution_count": 10,
   "metadata": {
    "scrolled": true
   },
   "outputs": [
    {
     "name": "stdout",
     "output_type": "stream",
     "text": [
      "a: 4 b: 5 counter: 0\n",
      "a: 4 b: 5 counter: 1\n",
      "a: 4 b: 5 counter: 2\n",
      "a: 4 b: 5 counter: 3\n",
      "a: 4 b: 5 counter: 4\n"
     ]
    },
    {
     "data": {
      "text/plain": [
       "True"
      ]
     },
     "execution_count": 10,
     "metadata": {},
     "output_type": "execute_result"
    }
   ],
   "source": [
    "is_a_less_than_b(4, 5)"
   ]
  },
  {
   "cell_type": "markdown",
   "metadata": {},
   "source": [
    "# Operations\n",
    "\n",
    "Another very important aspect of numbers is that we can _operate_ on them."
   ]
  },
  {
   "cell_type": "markdown",
   "metadata": {},
   "source": [
    "### Addition\n",
    "A fundmamental operation is to _add_ or _sum_ numbers - can we generalize what we did in the `is_eating` function to help us achieve this?"
   ]
  },
  {
   "cell_type": "code",
   "execution_count": 11,
   "metadata": {},
   "outputs": [],
   "source": [
    "def simple_sum(a, b):\n",
    "     \n",
    "    # keep track of how much we've added to a\n",
    "    tracker = 0\n",
    "    \n",
    "    # set up loop that exits once we've added exactly b ones to a\n",
    "    while tracker < b:\n",
    "        print(\"a:\", a, \"b:\", b, \"tracker:\", tracker)\n",
    "        # increment a by 1\n",
    "        a = a + 1\n",
    "        \n",
    "        # update tracker\n",
    "        tracker = tracker + 1\n",
    "    \n",
    "    return a"
   ]
  },
  {
   "cell_type": "code",
   "execution_count": 12,
   "metadata": {},
   "outputs": [
    {
     "name": "stdout",
     "output_type": "stream",
     "text": [
      "a: 4 b: 5 tracker: 0\n",
      "a: 5 b: 5 tracker: 1\n",
      "a: 6 b: 5 tracker: 2\n",
      "a: 7 b: 5 tracker: 3\n",
      "a: 8 b: 5 tracker: 4\n"
     ]
    },
    {
     "data": {
      "text/plain": [
       "9"
      ]
     },
     "execution_count": 12,
     "metadata": {},
     "output_type": "execute_result"
    }
   ],
   "source": [
    "simple_sum(4, 5)"
   ]
  },
  {
   "cell_type": "markdown",
   "metadata": {},
   "source": [
    "### Multiplication\n",
    "\n",
    "Now let's say we wanted to order, for all 4 of our potential eaters, two meals each - lunch and dinner. Is there a quick way for us to figure out how many lunches to order?"
   ]
  },
  {
   "cell_type": "code",
   "execution_count": 13,
   "metadata": {
    "scrolled": true
   },
   "outputs": [
    {
     "data": {
      "text/plain": [
       "4"
      ]
     },
     "execution_count": 13,
     "metadata": {},
     "output_type": "execute_result"
    }
   ],
   "source": [
    "len(is_eating_lunch)"
   ]
  },
  {
   "cell_type": "code",
   "execution_count": 14,
   "metadata": {},
   "outputs": [],
   "source": [
    "def simple_multiply(a, b):\n",
    "    \n",
    "    counter = 1\n",
    "    product = 0\n",
    "\n",
    "    while counter < b:\n",
    "        print(\"a:\", a, \"b:\", b, \"product:\", product)\n",
    "        print('\\n')\n",
    "        \n",
    "        product = product + simple_sum(a, a)\n",
    "        counter = counter + 1\n",
    "    \n",
    "    return product"
   ]
  },
  {
   "cell_type": "code",
   "execution_count": 15,
   "metadata": {
    "scrolled": true
   },
   "outputs": [
    {
     "name": "stdout",
     "output_type": "stream",
     "text": [
      "a: 4 b: 2 product: 0\n",
      "\n",
      "\n",
      "a: 4 b: 4 tracker: 0\n",
      "a: 5 b: 4 tracker: 1\n",
      "a: 6 b: 4 tracker: 2\n",
      "a: 7 b: 4 tracker: 3\n"
     ]
    },
    {
     "data": {
      "text/plain": [
       "8"
      ]
     },
     "execution_count": 15,
     "metadata": {},
     "output_type": "execute_result"
    }
   ],
   "source": [
    "simple_multiply(4, 2)"
   ]
  },
  {
   "cell_type": "markdown",
   "metadata": {},
   "source": [
    "So with _multiplication_, you could say we're adding a number to itself a certain number of times."
   ]
  },
  {
   "cell_type": "markdown",
   "metadata": {},
   "source": [
    "### Subtraction\n",
    "\n",
    "Now what if we want to decrease from a number, i.e. count _downwards_?"
   ]
  },
  {
   "cell_type": "code",
   "execution_count": 16,
   "metadata": {},
   "outputs": [],
   "source": [
    "def simple_subtract(a, b):\n",
    "    \n",
    "    while b > 0:\n",
    "        print(\"a:\", a, \"b:\", b)\n",
    "        # decrement a by 1\n",
    "        a = a - 1\n",
    "        b = b - 1\n",
    "    \n",
    "    return a"
   ]
  },
  {
   "cell_type": "code",
   "execution_count": 17,
   "metadata": {
    "scrolled": true
   },
   "outputs": [
    {
     "name": "stdout",
     "output_type": "stream",
     "text": [
      "a: 5 b: 1\n"
     ]
    },
    {
     "data": {
      "text/plain": [
       "4"
      ]
     },
     "execution_count": 17,
     "metadata": {},
     "output_type": "execute_result"
    }
   ],
   "source": [
    "simple_subtract(5, 1)"
   ]
  },
  {
   "cell_type": "markdown",
   "metadata": {},
   "source": [
    "Or..."
   ]
  },
  {
   "cell_type": "code",
   "execution_count": 18,
   "metadata": {},
   "outputs": [],
   "source": [
    "def simple_subtraction(a, b):\n",
    "    \n",
    "    counter = 0\n",
    "    while b < a:\n",
    "        counter = counter + 1\n",
    "        b = b + 1\n",
    "\n",
    "    return counter"
   ]
  },
  {
   "cell_type": "code",
   "execution_count": 19,
   "metadata": {
    "scrolled": true
   },
   "outputs": [
    {
     "data": {
      "text/plain": [
       "2"
      ]
     },
     "execution_count": 19,
     "metadata": {},
     "output_type": "execute_result"
    }
   ],
   "source": [
    "simple_subtraction(5, 3)"
   ]
  },
  {
   "cell_type": "markdown",
   "metadata": {},
   "source": [
    "### Division\n",
    "\n",
    "Similarly, we can decrease a number by quantities of another number, a process known as _division_."
   ]
  },
  {
   "cell_type": "code",
   "execution_count": 20,
   "metadata": {},
   "outputs": [],
   "source": [
    "def simple_divide(a, b):\n",
    "\n",
    "    quotient = 0\n",
    "    remainder = 0\n",
    "\n",
    "    while a >= b:\n",
    "        print(\"a:\", a, \"b:\", b, \"quotient\", quotient)\n",
    "        print('\\n')\n",
    "        \n",
    "        a = simple_subtract(a, b)\n",
    "        quotient = quotient + 1\n",
    "\n",
    "    remainder = a\n",
    "    return (\"quotient: \", quotient, \"remainder: \", remainder)"
   ]
  },
  {
   "cell_type": "code",
   "execution_count": 21,
   "metadata": {
    "scrolled": true
   },
   "outputs": [
    {
     "name": "stdout",
     "output_type": "stream",
     "text": [
      "a: 6 b: 2 quotient 0\n",
      "\n",
      "\n",
      "a: 6 b: 2\n",
      "a: 5 b: 1\n",
      "a: 4 b: 2 quotient 1\n",
      "\n",
      "\n",
      "a: 4 b: 2\n",
      "a: 3 b: 1\n",
      "a: 2 b: 2 quotient 2\n",
      "\n",
      "\n",
      "a: 2 b: 2\n",
      "a: 1 b: 1\n"
     ]
    },
    {
     "data": {
      "text/plain": [
       "('quotient: ', 3, 'remainder: ', 0)"
      ]
     },
     "execution_count": 21,
     "metadata": {},
     "output_type": "execute_result"
    }
   ],
   "source": [
    "simple_divide(6, 2)"
   ]
  },
  {
   "cell_type": "code",
   "execution_count": null,
   "metadata": {},
   "outputs": [],
   "source": []
  }
 ],
 "metadata": {
  "kernelspec": {
   "display_name": "Python 3",
   "language": "python",
   "name": "python3"
  },
  "language_info": {
   "codemirror_mode": {
    "name": "ipython",
    "version": 3
   },
   "file_extension": ".py",
   "mimetype": "text/x-python",
   "name": "python",
   "nbconvert_exporter": "python",
   "pygments_lexer": "ipython3",
   "version": "3.7.1"
  }
 },
 "nbformat": 4,
 "nbformat_minor": 2
}
