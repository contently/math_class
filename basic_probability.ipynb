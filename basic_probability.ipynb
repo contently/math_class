{
 "cells": [
  {
   "cell_type": "code",
   "execution_count": 1,
   "metadata": {},
   "outputs": [],
   "source": [
    "import random\n",
    "from collections import Counter\n",
    "import matplotlib.pyplot as plt"
   ]
  },
  {
   "cell_type": "code",
   "execution_count": 2,
   "metadata": {},
   "outputs": [],
   "source": [
    "%matplotlib inline"
   ]
  },
  {
   "cell_type": "markdown",
   "metadata": {},
   "source": [
    "# 0. Background\n",
    "\n",
    "### Maybe one could say, somewhat colloquially, that ...\n",
    "\n",
    "... _probability theory_ is the field of study involving math on relative frequencies, and that...\n",
    "\n",
    "... a _probability_ is a measure, lying between 0 and 1, that reflects the _expectation_ of a event in terms of how frequently it will happen."
   ]
  },
  {
   "cell_type": "markdown",
   "metadata": {},
   "source": [
    "# 1. Basic Probability"
   ]
  },
  {
   "cell_type": "markdown",
   "metadata": {},
   "source": [
    "### Get some marbles"
   ]
  },
  {
   "cell_type": "code",
   "execution_count": 3,
   "metadata": {},
   "outputs": [],
   "source": [
    "marble_colors = [\"black\", \"white\"]"
   ]
  },
  {
   "cell_type": "code",
   "execution_count": 4,
   "metadata": {},
   "outputs": [
    {
     "name": "stdout",
     "output_type": "stream",
     "text": [
      "Return random integer in range [a, b], including both end points.\n",
      "        \n"
     ]
    }
   ],
   "source": [
    "print(random.randint.__doc__)"
   ]
  },
  {
   "cell_type": "markdown",
   "metadata": {},
   "source": [
    "[0, 1] -> between 0 and 1, including both boundaries\n",
    "\n",
    "(0, 1) -> between 0 and 1, excluding both boundaries\n",
    "\n",
    "(0, 1] -> between 0 and 1, excluding 0 but including 1"
   ]
  },
  {
   "cell_type": "code",
   "execution_count": 5,
   "metadata": {},
   "outputs": [],
   "source": [
    "marble_bag = [marble_colors[random.randint(0, 1)] for i in range(100)]"
   ]
  },
  {
   "cell_type": "code",
   "execution_count": 6,
   "metadata": {
    "scrolled": true
   },
   "outputs": [
    {
     "data": {
      "text/plain": [
       "['black',\n",
       " 'black',\n",
       " 'white',\n",
       " 'black',\n",
       " 'white',\n",
       " 'white',\n",
       " 'black',\n",
       " 'black',\n",
       " 'white',\n",
       " 'black']"
      ]
     },
     "execution_count": 6,
     "metadata": {},
     "output_type": "execute_result"
    }
   ],
   "source": [
    "marble_bag[:10]"
   ]
  },
  {
   "cell_type": "code",
   "execution_count": 7,
   "metadata": {
    "scrolled": true
   },
   "outputs": [
    {
     "data": {
      "text/plain": [
       "Counter({'black': 47, 'white': 53})"
      ]
     },
     "execution_count": 7,
     "metadata": {},
     "output_type": "execute_result"
    }
   ],
   "source": [
    "Counter(marble_bag)"
   ]
  },
  {
   "cell_type": "markdown",
   "metadata": {},
   "source": [
    "### What are the chances ...\n",
    "... that we pull a white marble from our bag?"
   ]
  },
  {
   "cell_type": "markdown",
   "metadata": {},
   "source": [
    "--"
   ]
  },
  {
   "cell_type": "markdown",
   "metadata": {},
   "source": [
    "We look at the number of _white_ marbles in the bag compared to the _total_ number of marbles in the bag, and take the ratio of _white_ to _total_."
   ]
  },
  {
   "cell_type": "code",
   "execution_count": 8,
   "metadata": {},
   "outputs": [],
   "source": [
    "cnt_marbles_in_bag = Counter(marble_bag)"
   ]
  },
  {
   "cell_type": "code",
   "execution_count": 9,
   "metadata": {},
   "outputs": [
    {
     "data": {
      "text/plain": [
       "Counter({'black': 47, 'white': 53})"
      ]
     },
     "execution_count": 9,
     "metadata": {},
     "output_type": "execute_result"
    }
   ],
   "source": [
    "cnt_marbles_in_bag"
   ]
  },
  {
   "cell_type": "code",
   "execution_count": 10,
   "metadata": {},
   "outputs": [],
   "source": [
    "num_white_marbles = cnt_marbles_in_bag['white']"
   ]
  },
  {
   "cell_type": "code",
   "execution_count": 11,
   "metadata": {},
   "outputs": [
    {
     "data": {
      "text/plain": [
       "0.53"
      ]
     },
     "execution_count": 11,
     "metadata": {},
     "output_type": "execute_result"
    }
   ],
   "source": [
    "num_white_marbles / len(marble_bag)"
   ]
  },
  {
   "cell_type": "markdown",
   "metadata": {},
   "source": [
    "Now, let's try to verify our solution. We can do this by randomly drawing 10 marbles from `marble_bag` and comparing the proportion of these marbles that are _white_ to what we just calculated above:"
   ]
  },
  {
   "cell_type": "code",
   "execution_count": 12,
   "metadata": {},
   "outputs": [],
   "source": [
    "draws_10 = [marble_bag[random.randint(0, 99)] for i in range(10)]"
   ]
  },
  {
   "cell_type": "code",
   "execution_count": 13,
   "metadata": {},
   "outputs": [
    {
     "data": {
      "text/plain": [
       "Counter({'white': 6, 'black': 4})"
      ]
     },
     "execution_count": 13,
     "metadata": {},
     "output_type": "execute_result"
    }
   ],
   "source": [
    "Counter(draws_10)"
   ]
  },
  {
   "cell_type": "markdown",
   "metadata": {},
   "source": [
    "So, pretty close! But not exact... any ideas on how we might be able to get close to our expected frequency?\n",
    "\n",
    "--\n",
    "\n",
    "If you were thinking \"draw more marbles,\" you're right! Let's try it: "
   ]
  },
  {
   "cell_type": "code",
   "execution_count": 14,
   "metadata": {},
   "outputs": [],
   "source": [
    "draws_10 = [marble_bag[random.randint(0, 99)] for i in range(10)]\n",
    "cnt_10 = Counter(draws_10)['white'] / 10 * 100\n",
    "\n",
    "draws_100 = [marble_bag[random.randint(0, 99)] for i in range(100)]\n",
    "cnt_100 = Counter(draws_100)['white'] / 100 * 100\n",
    "\n",
    "draws_1000 = [marble_bag[random.randint(0, 99)] for i in range(1000)]\n",
    "cnt_1000 = Counter(draws_1000)['white'] / 1000 * 100\n",
    "\n",
    "draws_10000 = [marble_bag[random.randint(0, 99)] for i in range(10000)]\n",
    "cnt_10000 = Counter(draws_10000)['white'] / 10000 * 100"
   ]
  },
  {
   "cell_type": "code",
   "execution_count": 15,
   "metadata": {},
   "outputs": [
    {
     "data": {
      "image/png": "[encoded data removed]",
      "text/plain": [
       "<Figure size 792x576 with 1 Axes>"
      ]
     },
     "metadata": {
      "needs_background": "light"
     },
     "output_type": "display_data"
    }
   ],
   "source": [
    "fig = plt.figure(figsize=(11, 8))\n",
    "\n",
    "draws = [\"10\", \"100\", \"1000\", \"10000\"]\n",
    "white_counts = [cnt_10, cnt_100, cnt_1000, cnt_10000]\n",
    "bar = plt.bar(x=draws, height=white_counts, width=.4)\n",
    "\n",
    "line = plt.axhline(y=num_white_marbles / len(marble_bag) * 100, color=\"grey\", linewidth=3)\n",
    "\n",
    "xlab = plt.xlabel(\"draws\")\n",
    "ylab = plt.ylabel(\"white (%)\")\n",
    "title = plt.title(\"% white marbles drawn over varying draw sizes, with line for calculated probability\")"
   ]
  },
  {
   "cell_type": "markdown",
   "metadata": {},
   "source": [
    "We are seeing here the conseuqences of the _law of large numbers_, which theorizes that: \n",
    "- \"...the average of the results obtained from a large number of trials should be close to the expected value, and will tend to become closer as more trials are performed...\"\n",
    "\n",
    "See more on [Wikipedia](https://en.wikipedia.org/wiki/Law_of_large_numbers)."
   ]
  },
  {
   "cell_type": "markdown",
   "metadata": {},
   "source": [
    "### How about for ...\n",
    "... pulling first a white marble and then, after replacing the white marble, a black marble?"
   ]
  },
  {
   "cell_type": "markdown",
   "metadata": {},
   "source": [
    "--"
   ]
  },
  {
   "cell_type": "markdown",
   "metadata": {},
   "source": [
    "A nice method for attacking this sort of problem is to start by breaking the draws up into separate events that we can link back up later:\n",
    "1. The first thing we need to do is what we did above: pull a _white_ marble from the bag, an event whose probability of occuring we already understand.\n",
    "2. Next, we think about the chances of drawing a _black_ marble, for which we can follow the exact same protocol that we did for drawing a _white_ marble"
   ]
  },
  {
   "cell_type": "code",
   "execution_count": 16,
   "metadata": {},
   "outputs": [],
   "source": [
    "p_white_marble = num_white_marbles / len(marble_bag)"
   ]
  },
  {
   "cell_type": "code",
   "execution_count": 17,
   "metadata": {},
   "outputs": [
    {
     "data": {
      "text/plain": [
       "0.53"
      ]
     },
     "execution_count": 17,
     "metadata": {},
     "output_type": "execute_result"
    }
   ],
   "source": [
    "p_white_marble"
   ]
  },
  {
   "cell_type": "code",
   "execution_count": 18,
   "metadata": {},
   "outputs": [],
   "source": [
    "num_black_marbles = cnt_marbles_in_bag['black']"
   ]
  },
  {
   "cell_type": "code",
   "execution_count": 19,
   "metadata": {
    "scrolled": true
   },
   "outputs": [],
   "source": [
    "p_black_marble = num_black_marbles / len(marble_bag)"
   ]
  },
  {
   "cell_type": "code",
   "execution_count": 20,
   "metadata": {},
   "outputs": [
    {
     "data": {
      "text/plain": [
       "0.47"
      ]
     },
     "execution_count": 20,
     "metadata": {},
     "output_type": "execute_result"
    }
   ],
   "source": [
    "p_black_marble"
   ]
  },
  {
   "cell_type": "markdown",
   "metadata": {},
   "source": [
    "So, how do we now aggregate these two probabilities correctly? \n",
    "\n",
    "You could almost look at the first event as a _barrier to entry_ to being able to make the second happen, if that makes sense. In other words, you can't draw _a white and then a black marble_ without first drawing the _white_ marble.\n",
    "\n",
    "So the probability of you getting to even try to draw a black marble is equal to the probability of drawing that first white marble. This means that out of _all_ (100%) of events, you have a `p_white_marble` chance of being able to try for the black marble, and then out of that portion of possibilities, a `p_black_marble` chance of drawing black. Therefore:"
   ]
  },
  {
   "cell_type": "code",
   "execution_count": 21,
   "metadata": {},
   "outputs": [],
   "source": [
    "p_white_then_black = p_white_marble * p_black_marble"
   ]
  },
  {
   "cell_type": "code",
   "execution_count": 22,
   "metadata": {
    "scrolled": true
   },
   "outputs": [
    {
     "data": {
      "text/plain": [
       "0.2491"
      ]
     },
     "execution_count": 22,
     "metadata": {},
     "output_type": "execute_result"
    }
   ],
   "source": [
    "p_white_then_black"
   ]
  },
  {
   "cell_type": "markdown",
   "metadata": {},
   "source": [
    "This an example of a _conditional_ probability: draw a black marble _conditional on_ or _given that_ you've first drawn a white marble.\n",
    "\n",
    "Note that we can take a simple product of these two probabilities due to the fact that the first and second draws are _independent_. Since we are replacing the marble after the first draw, we are not affecting the outcome of the second draw with our first - the only thing we are doing with our first draw is deciding whether or not we get a second draw.\n",
    "\n",
    "Handling _dependent conditional probabilities_ requries some modifications to the above methodology."
   ]
  },
  {
   "cell_type": "markdown",
   "metadata": {},
   "source": [
    "### Let's do one more....\n",
    "\n",
    "How about the probability of pulling first a white marble, replacing it, drawing a black marble, _not_ replacing it, and then drawing another black marble?"
   ]
  },
  {
   "cell_type": "markdown",
   "metadata": {},
   "source": [
    "--"
   ]
  },
  {
   "cell_type": "markdown",
   "metadata": {},
   "source": [
    "Following a similar methodology to before, we start with `p_white_then_black` as our _gateway_ to the possibility of making our third draw. We will then have to scale this final set of events down by the the chances of our third draw going the way we want it to.\n",
    "\n",
    "EXCEPT there is a small but important difference here - we have to alter our marble bag after the second draw..."
   ]
  },
  {
   "cell_type": "code",
   "execution_count": 67,
   "metadata": {},
   "outputs": [],
   "source": [
    "marble_bag.remove('black')"
   ]
  },
  {
   "cell_type": "code",
   "execution_count": 68,
   "metadata": {
    "scrolled": true
   },
   "outputs": [
    {
     "data": {
      "text/plain": [
       "99"
      ]
     },
     "execution_count": 68,
     "metadata": {},
     "output_type": "execute_result"
    }
   ],
   "source": [
    "len(marble_bag)"
   ]
  },
  {
   "cell_type": "code",
   "execution_count": 69,
   "metadata": {},
   "outputs": [],
   "source": [
    "cnt_marbles_in_bag = Counter(marble_bag)"
   ]
  },
  {
   "cell_type": "code",
   "execution_count": 70,
   "metadata": {},
   "outputs": [],
   "source": [
    "num_black_marbles = cnt_marbles_in_bag['black']"
   ]
  },
  {
   "cell_type": "code",
   "execution_count": 71,
   "metadata": {
    "scrolled": true
   },
   "outputs": [],
   "source": [
    "p_black_marble = num_black_marbles / len(marble_bag)"
   ]
  },
  {
   "cell_type": "code",
   "execution_count": 72,
   "metadata": {
    "scrolled": true
   },
   "outputs": [
    {
     "data": {
      "text/plain": [
       "0.11574343434343434"
      ]
     },
     "execution_count": 72,
     "metadata": {},
     "output_type": "execute_result"
    }
   ],
   "source": [
    "p_white_then_black * p_black_marble"
   ]
  },
  {
   "cell_type": "markdown",
   "metadata": {},
   "source": [
    "# 2. Expected Value"
   ]
  },
  {
   "cell_type": "markdown",
   "metadata": {},
   "source": [
    "### Average: the Arithmetic Mean"
   ]
  },
  {
   "cell_type": "markdown",
   "metadata": {},
   "source": [
    "Let's say we have the following grades for our math class so far:"
   ]
  },
  {
   "cell_type": "code",
   "execution_count": 23,
   "metadata": {},
   "outputs": [],
   "source": [
    "math_grades = [100, 85, 95, 90]"
   ]
  },
  {
   "cell_type": "markdown",
   "metadata": {},
   "source": [
    "How would we take the average?"
   ]
  },
  {
   "cell_type": "markdown",
   "metadata": {},
   "source": [
    "--"
   ]
  },
  {
   "cell_type": "markdown",
   "metadata": {},
   "source": [
    "Taking the _average_, or a specific number that represents the _central tendency_ of these grades, would involve us summing these grades and then dividing that sum by the number of grades that went into it. Put another way, we take everything we have, make all that into one combined thing, and then divide that thing up into equal parts, with that number of parts equaling the original number of things we had.\n",
    "\n",
    "This measure can prove useful for explaining data, particularly for aggregating lots of information into a single measure. There are other measures of central tendency, too, like the _median_, that we'll get into at later points in time. There are other types of _mean_ calculations, too, but when people say _average_ they are referring to the _arithmetic mean_, which we have described above.\n",
    "\n",
    "A simple function to calculate average:"
   ]
  },
  {
   "cell_type": "code",
   "execution_count": 24,
   "metadata": {},
   "outputs": [],
   "source": [
    "def average(numbers):\n",
    "    total = sum(numbers)\n",
    "    count = len(numbers)\n",
    "    return total / count"
   ]
  },
  {
   "cell_type": "code",
   "execution_count": 25,
   "metadata": {
    "scrolled": true
   },
   "outputs": [
    {
     "data": {
      "text/plain": [
       "92.5"
      ]
     },
     "execution_count": 25,
     "metadata": {},
     "output_type": "execute_result"
    }
   ],
   "source": [
    "average(math_grades)"
   ]
  },
  {
   "cell_type": "markdown",
   "metadata": {},
   "source": [
    "A basic, iterative approach could be taken, as well:"
   ]
  },
  {
   "cell_type": "code",
   "execution_count": 26,
   "metadata": {},
   "outputs": [],
   "source": [
    "def average_iterative(numbers):\n",
    "    total = 0\n",
    "    count = 0\n",
    "    \n",
    "    for num in numbers:\n",
    "        total += num\n",
    "        count += 1\n",
    "    \n",
    "    return total * (1 / count)"
   ]
  },
  {
   "cell_type": "code",
   "execution_count": 27,
   "metadata": {
    "scrolled": false
   },
   "outputs": [
    {
     "data": {
      "text/plain": [
       "92.5"
      ]
     },
     "execution_count": 27,
     "metadata": {},
     "output_type": "execute_result"
    }
   ],
   "source": [
    "average_iterative(math_grades)"
   ]
  },
  {
   "cell_type": "markdown",
   "metadata": {},
   "source": [
    "Note that `for` operates similarly to the `while` loop syntax we encountered last week, except that it takes care of more of the work for you - all you have to do with a `for` loop is tell it what to loop over, and what to do each time you loop."
   ]
  },
  {
   "cell_type": "markdown",
   "metadata": {},
   "source": [
    "Let's visualize what we've calculated:"
   ]
  },
  {
   "cell_type": "code",
   "execution_count": 28,
   "metadata": {
    "scrolled": false
   },
   "outputs": [
    {
     "data": {
      "image/png": "[encoded data removed]",
      "text/plain": [
       "<Figure size 792x576 with 1 Axes>"
      ]
     },
     "metadata": {
      "needs_background": "light"
     },
     "output_type": "display_data"
    }
   ],
   "source": [
    "fig = plt.figure(figsize=(11, 8))\n",
    "\n",
    "x = [0, 1, 2, 3]\n",
    "x_labels = [\"assignment1\", \"assignment2\", \"assignment3\", \"assignment4\"]\n",
    "bar = plt.bar(x=x, height=math_grades, width=.4, tick_label=x_labels)\n",
    "\n",
    "line = plt.axhline(y=average(math_grades), color=\"grey\", linewidth=3)\n",
    "\n",
    "ylab = plt.ylabel(\"grade\")\n",
    "title = plt.title(\"Math Grades, With Arithmetic Average Line\")"
   ]
  },
  {
   "cell_type": "markdown",
   "metadata": {},
   "source": [
    "We can see that some assignments come in above our _average_, and some below it, but they're all generally in the neighborhood (note that this last observation is not guaranteed when dealing with _averages_)."
   ]
  },
  {
   "cell_type": "markdown",
   "metadata": {},
   "source": [
    "### The Weighted Average"
   ]
  },
  {
   "cell_type": "markdown",
   "metadata": {},
   "source": [
    "Let's say we have the following `(grades, grade_weight)` pairs for our math class, whose assignments comprised of two quizzes and two exams:"
   ]
  },
  {
   "cell_type": "code",
   "execution_count": 29,
   "metadata": {},
   "outputs": [],
   "source": [
    "math_weighted_grades = [(100, .1), (85, .4), (95, .1), (90, .4)]"
   ]
  },
  {
   "cell_type": "markdown",
   "metadata": {},
   "source": [
    "We can spot the tests right away, as they have a weight of 40%, as opposed to 10% for each of the quizzes. How can we take an average of these grades that accounts for the fact that tests are so much more important? "
   ]
  },
  {
   "cell_type": "markdown",
   "metadata": {},
   "source": [
    "--"
   ]
  },
  {
   "cell_type": "code",
   "execution_count": 30,
   "metadata": {},
   "outputs": [],
   "source": [
    "def average_weighted_iterative(grade_weight_pairs):\n",
    "    total = 0\n",
    "    \n",
    "    for grade, weight in grade_weight_pairs:\n",
    "        total += grade * weight\n",
    "    \n",
    "    return total"
   ]
  },
  {
   "cell_type": "code",
   "execution_count": 31,
   "metadata": {
    "scrolled": false
   },
   "outputs": [
    {
     "data": {
      "text/plain": [
       "89.5"
      ]
     },
     "execution_count": 31,
     "metadata": {},
     "output_type": "execute_result"
    }
   ],
   "source": [
    "average_weighted_iterative(math_weighted_grades)"
   ]
  },
  {
   "cell_type": "code",
   "execution_count": 32,
   "metadata": {},
   "outputs": [],
   "source": [
    "math_grade_weights = list(zip(*math_weighted_grades))[1]"
   ]
  },
  {
   "cell_type": "code",
   "execution_count": 33,
   "metadata": {
    "scrolled": false
   },
   "outputs": [
    {
     "data": {
      "image/png": "[encoded data removed]",
      "text/plain": [
       "<Figure size 792x576 with 1 Axes>"
      ]
     },
     "metadata": {
      "needs_background": "light"
     },
     "output_type": "display_data"
    }
   ],
   "source": [
    "fig = plt.figure(figsize=(11, 8))\n",
    "\n",
    "x = [0, 1, 2, 3]\n",
    "xlabels = [\"quiz1\", \"test1\", \"quiz2\", \"test2\"]\n",
    "bar = plt.bar(x=x, height=math_grades, width=math_grade_weights, tick_label=xlabels)\n",
    "\n",
    "line1 = plt.axhline(y=average(math_grades), color=\"grey\", linewidth=3)\n",
    "line2 = plt.axhline(y=average_weighted_iterative(math_weighted_grades), color=\"lightgreen\", linewidth=3)\n",
    "\n",
    "ylab = plt.ylabel(\"grade\")\n",
    "title = plt.title(\"Math Grades, With Arithmetic Average Line\")"
   ]
  },
  {
   "cell_type": "markdown",
   "metadata": {},
   "source": [
    "### Real World Examples: Financial instruments\n",
    "\n",
    "Let's say I own a portfolio of stocks, and I want to represent the performance of this portfolio in a single number so that I can make fun of my friend (whose stocks aren't performing well) and also try to out-maneuver her from an office politics perspective so that I get a bigger bonus. And let's say that I have earned the following return figures over the period that I've held the stocks (one figure for each stock):"
   ]
  },
  {
   "cell_type": "code",
   "execution_count": 34,
   "metadata": {},
   "outputs": [],
   "source": [
    "stock_returns = [.05, .075, .025, -.05, .12, -.01]"
   ]
  },
  {
   "cell_type": "markdown",
   "metadata": {},
   "source": [
    "Well, we could take an average, right?"
   ]
  },
  {
   "cell_type": "code",
   "execution_count": 35,
   "metadata": {},
   "outputs": [
    {
     "data": {
      "text/plain": [
       "0.034999999999999996"
      ]
     },
     "execution_count": 35,
     "metadata": {},
     "output_type": "execute_result"
    }
   ],
   "source": [
    "average(stock_returns)"
   ]
  },
  {
   "cell_type": "markdown",
   "metadata": {},
   "source": [
    "But what does this number tell us? If you know anything about stocks, you'll know that a return is a _relative_ measure; i.e. it's provided in units of _percent_ so that you can apply this to measure to the size of your position to get what you've actually made in dollars.\n",
    "\n",
    "Put another way, without our position sizes we don't really know how well our portfolio has performed. Let's introduce some position sizes (these are relative sizes within the portfolio):"
   ]
  },
  {
   "cell_type": "code",
   "execution_count": 36,
   "metadata": {},
   "outputs": [],
   "source": [
    "stock_position_sizes = [.1, .05, .1, .50, .05, .20]"
   ]
  },
  {
   "cell_type": "markdown",
   "metadata": {},
   "source": [
    "Now that we have these, it may seem obvious that we need to take some kind of a weighted average - but what are we averaging, and what are weighting that average by?"
   ]
  },
  {
   "cell_type": "markdown",
   "metadata": {},
   "source": [
    "--"
   ]
  },
  {
   "cell_type": "markdown",
   "metadata": {},
   "source": [
    "If you guessed that we're averaging returns and weighting by position sizes - you're right! Let's combine these measures so that we can pass them into our previous function:"
   ]
  },
  {
   "cell_type": "code",
   "execution_count": 37,
   "metadata": {},
   "outputs": [],
   "source": [
    "stock_return_position_pairs = list(zip(stock_returns, stock_position_sizes))"
   ]
  },
  {
   "cell_type": "code",
   "execution_count": 48,
   "metadata": {
    "scrolled": true
   },
   "outputs": [
    {
     "data": {
      "text/plain": [
       "(0.05, 0.1)"
      ]
     },
     "execution_count": 48,
     "metadata": {},
     "output_type": "execute_result"
    }
   ],
   "source": [
    "stock_return_position_pairs[0]"
   ]
  },
  {
   "cell_type": "code",
   "execution_count": 39,
   "metadata": {
    "scrolled": false
   },
   "outputs": [
    {
     "data": {
      "text/plain": [
       "-0.00975"
      ]
     },
     "execution_count": 39,
     "metadata": {},
     "output_type": "execute_result"
    }
   ],
   "source": [
    "average_weighted_iterative(stock_return_position_pairs)"
   ]
  },
  {
   "cell_type": "markdown",
   "metadata": {},
   "source": [
    "So, not quite as good, eh? Let's hope our friend did even worse!"
   ]
  },
  {
   "cell_type": "markdown",
   "metadata": {},
   "source": [
    "Let's say we've decided stock picking is too hard and that we're not going to move forward with continuing to trade in the equities markets. Somehow, our genius-of-a-manager thinks that we still have talent and hasn't fired us yet, and so we're trying to think of something else to do. \n",
    "\n",
    "A buddy tells us about lending - we essentially rent someone money, so long as we're OK with parting ways with our capital now, they'll give us _more_ back later (what we originally lent them plus some _interest_ to account for us doing the favor of not being able to utilize our funds for a while). Great!\n",
    "\n",
    "So we decide to go ahead and buy they following loans:"
   ]
  },
  {
   "cell_type": "code",
   "execution_count": 42,
   "metadata": {},
   "outputs": [],
   "source": [
    "loan_principal = [100, 75, 50, 250, 25, 50]"
   ]
  },
  {
   "cell_type": "code",
   "execution_count": 43,
   "metadata": {},
   "outputs": [],
   "source": [
    "loan_interest = [.05, .075, .025, .025, .10, .15]"
   ]
  },
  {
   "cell_type": "markdown",
   "metadata": {},
   "source": [
    "Since _interest_, like _return_ is a relative measure, we need to multiply interest by _principal_ (the amount we're lending) to understand how much money we're going to make.\n",
    "\n",
    "First, we'll create a list of `(interest, principal)` pairs, and then we'll create a new list that consists of the product across each pair."
   ]
  },
  {
   "cell_type": "code",
   "execution_count": 45,
   "metadata": {},
   "outputs": [],
   "source": [
    "loan_interest_principal_pairs = list(zip(loan_interest, loan_principal))"
   ]
  },
  {
   "cell_type": "code",
   "execution_count": 47,
   "metadata": {},
   "outputs": [
    {
     "data": {
      "text/plain": [
       "(0.05, 100)"
      ]
     },
     "execution_count": 47,
     "metadata": {},
     "output_type": "execute_result"
    }
   ],
   "source": [
    "loan_interest_principal_pairs[0]"
   ]
  },
  {
   "cell_type": "code",
   "execution_count": 49,
   "metadata": {},
   "outputs": [],
   "source": [
    "loan_interest_dollars = [pair[0] * pair[1] for pair in loan_interest_principal_pairs]"
   ]
  },
  {
   "cell_type": "markdown",
   "metadata": {},
   "source": [
    "Now we can sum across all the dollar-interest values to get a measure of total profit for the portfolio:"
   ]
  },
  {
   "cell_type": "code",
   "execution_count": 51,
   "metadata": {},
   "outputs": [
    {
     "data": {
      "text/plain": [
       "28.125"
      ]
     },
     "execution_count": 51,
     "metadata": {},
     "output_type": "execute_result"
    }
   ],
   "source": [
    "sum(loan_interest_dollars)"
   ]
  },
  {
   "cell_type": "markdown",
   "metadata": {},
   "source": [
    "And, finally, we can divide this by the total principal of the portfolio to get a sense of our _relative_ profit (or return):"
   ]
  },
  {
   "cell_type": "code",
   "execution_count": 52,
   "metadata": {},
   "outputs": [
    {
     "data": {
      "text/plain": [
       "550"
      ]
     },
     "execution_count": 52,
     "metadata": {},
     "output_type": "execute_result"
    }
   ],
   "source": [
    "sum(loan_principal)"
   ]
  },
  {
   "cell_type": "code",
   "execution_count": 53,
   "metadata": {
    "scrolled": true
   },
   "outputs": [
    {
     "data": {
      "text/plain": [
       "0.05113636363636364"
      ]
     },
     "execution_count": 53,
     "metadata": {},
     "output_type": "execute_result"
    }
   ],
   "source": [
    "sum(loan_interest_dollars) / sum(loan_principal)"
   ]
  },
  {
   "cell_type": "markdown",
   "metadata": {},
   "source": [
    "Nice! So we're going to a make 5+% return just because we have some cash lying around? Great! \n",
    "\n",
    "Except.... what are we forgetting here?"
   ]
  },
  {
   "cell_type": "markdown",
   "metadata": {},
   "source": [
    "--"
   ]
  },
  {
   "cell_type": "markdown",
   "metadata": {},
   "source": [
    "We might not get paid back! What?! Yes, believe it or not, this is a part of lending, and interest rates are in fact generally calculated based on how likely someone is to pay back a loan. The higher the risk of default (non-payment), the higher the interest rate.\n",
    "\n",
    "So we can do some math to back out the default rates implied by the interest rates on these loans, but we want some more nuanced insight into where the markets are going, and we head over to our quant department to get their thoughts. They come back to us with the following default probabilities corresponding to our loan portfolio:"
   ]
  },
  {
   "cell_type": "code",
   "execution_count": 55,
   "metadata": {},
   "outputs": [],
   "source": [
    "loan_default_probabilities = [.07, .05, .01, .08, .10, .18]"
   ]
  },
  {
   "cell_type": "markdown",
   "metadata": {},
   "source": [
    "How do we create a more accurate sense of what our _expected_ profit for each loan is, using the above default probabilities?"
   ]
  },
  {
   "cell_type": "markdown",
   "metadata": {},
   "source": [
    "--"
   ]
  },
  {
   "cell_type": "markdown",
   "metadata": {},
   "source": [
    "We can take a _probability-weighted average_, otherwise known as _**expected value**_, of the dollar-interest amounts for the loans in the portfolio:"
   ]
  },
  {
   "cell_type": "code",
   "execution_count": 58,
   "metadata": {},
   "outputs": [],
   "source": [
    "loan_repayment_probabilities = [1 - p for p in loan_default_probabilities]"
   ]
  },
  {
   "cell_type": "code",
   "execution_count": 59,
   "metadata": {},
   "outputs": [],
   "source": [
    "loan_interest_probability_pairs = list(zip(loan_interest_dollars, loan_repayment_probabilities))"
   ]
  },
  {
   "cell_type": "code",
   "execution_count": 60,
   "metadata": {
    "scrolled": false
   },
   "outputs": [
    {
     "data": {
      "text/plain": [
       "25.38125"
      ]
     },
     "execution_count": 60,
     "metadata": {},
     "output_type": "execute_result"
    }
   ],
   "source": [
    "average_weighted_iterative(loan_interest_probability_pairs)"
   ]
  },
  {
   "cell_type": "code",
   "execution_count": 61,
   "metadata": {},
   "outputs": [
    {
     "data": {
      "text/plain": [
       "0.04614772727272728"
      ]
     },
     "execution_count": 61,
     "metadata": {},
     "output_type": "execute_result"
    }
   ],
   "source": [
    "25.38125 / sum(loan_principal)"
   ]
  },
  {
   "cell_type": "markdown",
   "metadata": {},
   "source": [
    "Ok, so still in the ballpark, but definitely a little lower than before.\n",
    "\n",
    "Also, if we were going to make decisions around which of these loans were worthwhile investments or not, we might start by comparing whose expected default rate was greater than the rate we'd be paid for holding the loan, and vice-versa!"
   ]
  }
 ],
 "metadata": {
  "kernelspec": {
   "display_name": "Python 3",
   "language": "python",
   "name": "python3"
  },
  "language_info": {
   "codemirror_mode": {
    "name": "ipython",
    "version": 3
   },
   "file_extension": ".py",
   "mimetype": "text/x-python",
   "name": "python",
   "nbconvert_exporter": "python",
   "pygments_lexer": "ipython3",
   "version": "3.7.1"
  }
 },
 "nbformat": 4,
 "nbformat_minor": 2
}
